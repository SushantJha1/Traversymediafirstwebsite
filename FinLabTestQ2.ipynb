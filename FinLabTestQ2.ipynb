{
  "nbformat": 4,
  "nbformat_minor": 0,
  "metadata": {
    "colab": {
      "provenance": [],
      "include_colab_link": true
    },
    "kernelspec": {
      "name": "python3",
      "display_name": "Python 3"
    },
    "language_info": {
      "name": "python"
    }
  },
  "cells": [
    {
      "cell_type": "markdown",
      "metadata": {
        "id": "view-in-github",
        "colab_type": "text"
      },
      "source": [
        "<a href=\"https://colab.research.google.com/github/SushantJha1/Traversymediafirstwebsite/blob/main/FinLabTestQ2.ipynb\" target=\"_parent\"><img src=\"https://colab.research.google.com/assets/colab-badge.svg\" alt=\"Open In Colab\"/></a>"
      ]
    },
    {
      "cell_type": "code",
      "source": [
        "pip install linearmodels arch"
      ],
      "metadata": {
        "id": "sAIS3oiwNGZt"
      },
      "execution_count": null,
      "outputs": []
    },
    {
      "cell_type": "code",
      "source": [
        "import pandas as pd\n",
        "from statsmodels.tsa.stattools import adfuller\n",
        "import numpy as np\n",
        "from linearmodels.panel import compare\n",
        "import statsmodels.api as sm\n",
        "import statsmodels.formula.api as smf\n",
        "from statsmodels.tools import add_constant\n",
        "import matplotlib.pyplot as plt\n",
        "from statsmodels.tsa.arima.model import ARIMA\n",
        "from arch import arch_model\n",
        "from linearmodels.panel import PanelOLS\n",
        "from linearmodels.panel import RandomEffects\n",
        "from statsmodels.stats.stattools import durbin_watson"
      ],
      "metadata": {
        "id": "H2zbJGezLWfv"
      },
      "execution_count": null,
      "outputs": []
    },
    {
      "cell_type": "markdown",
      "source": [
        "# Q1"
      ],
      "metadata": {
        "id": "WjaFArUULKSE"
      }
    },
    {
      "cell_type": "code",
      "source": [
        "data = pd.read_csv('/content/Data for Question 1.csv')"
      ],
      "metadata": {
        "id": "qpgFhvDOLKCc"
      },
      "execution_count": null,
      "outputs": []
    },
    {
      "cell_type": "code",
      "source": [
        "data['ROA'] = data['ROA (%)']\n",
        "data['RnD'] = data['R&D Expenditure (% of Sales)']\n",
        "data['DtoE'] = data['Debt-to-Equity']"
      ],
      "metadata": {
        "id": "4Tc5F-RfMScf"
      },
      "execution_count": null,
      "outputs": []
    },
    {
      "cell_type": "code",
      "source": [
        "# Adding a constant to the model\n",
        "data = add_constant(data)\n",
        "# Fixed Effects Model\n",
        "model = smf.ols('ROA ~ DtoE + RnD + Company_ID + const', data=data)\n",
        "fixed_effects_result = model.fit()\n",
        "\n",
        "# Display results\n",
        "print(fixed_effects_result.summary())"
      ],
      "metadata": {
        "colab": {
          "base_uri": "https://localhost:8080/"
        },
        "id": "v5hRpXOkLjJJ",
        "outputId": "7c7b4e61-0b88-499f-8290-f60c2186e81d"
      },
      "execution_count": null,
      "outputs": [
        {
          "output_type": "stream",
          "name": "stdout",
          "text": [
            "                            OLS Regression Results                            \n",
            "==============================================================================\n",
            "Dep. Variable:                    ROA   R-squared:                       0.775\n",
            "Model:                            OLS   Adj. R-squared:                  0.700\n",
            "Method:                 Least Squares   F-statistic:                     10.32\n",
            "Date:                Thu, 17 Apr 2025   Prob (F-statistic):           5.20e-05\n",
            "Time:                        10:09:54   Log-Likelihood:                -64.043\n",
            "No. Observations:                  25   AIC:                             142.1\n",
            "Df Residuals:                      18   BIC:                             150.6\n",
            "Df Model:                           6                                         \n",
            "Covariance Type:            nonrobust                                         \n",
            "====================================================================================\n",
            "                       coef    std err          t      P>|t|      [0.025      0.975]\n",
            "------------------------------------------------------------------------------------\n",
            "Intercept          -10.7208      9.892     -1.084      0.293     -31.504      10.062\n",
            "Company_ID[T.C2]    -8.2981      6.711     -1.236      0.232     -22.398       5.802\n",
            "Company_ID[T.C3]     1.4697      3.434      0.428      0.674      -5.745       8.684\n",
            "Company_ID[T.C4]    12.8225      9.117      1.406      0.177      -6.331      31.976\n",
            "Company_ID[T.C5]    21.1907      4.745      4.466      0.000      11.222      31.159\n",
            "DtoE               -12.7749      6.010     -2.126      0.048     -25.401      -0.148\n",
            "RnD                  7.6845      4.068      1.889      0.075      -0.862      16.231\n",
            "const              -10.7208      9.892     -1.084      0.293     -31.504      10.062\n",
            "==============================================================================\n",
            "Omnibus:                        2.655   Durbin-Watson:                   1.702\n",
            "Prob(Omnibus):                  0.265   Jarque-Bera (JB):                1.231\n",
            "Skew:                           0.431   Prob(JB):                        0.540\n",
            "Kurtosis:                       3.661   Cond. No.                     1.75e+17\n",
            "==============================================================================\n",
            "\n",
            "Notes:\n",
            "[1] Standard Errors assume that the covariance matrix of the errors is correctly specified.\n",
            "[2] The smallest eigenvalue is 1.55e-32. This might indicate that there are\n",
            "strong multicollinearity problems or that the design matrix is singular.\n"
          ]
        }
      ]
    },
    {
      "cell_type": "code",
      "source": [
        "# Convert your data into a Panel DataFrame\n",
        "def fiscal_year_to_date(fy_str):\n",
        "    year = int(fy_str[2:])  # Extract the year (e.g., 2020 from 'FY2020')\n",
        "    return pd.to_datetime(f'{year}-03-31')  # Convert to last day of fiscal year (e.g., March 31st)\n",
        "\n",
        "# Apply the function to the 'FiscalYear' column\n",
        "data['Year'] = data['Year'].apply(fiscal_year_to_date)\n",
        "data.set_index(['Company_ID', 'Year'], inplace=True)\n",
        "# Estimate Fixed Effects Model\n",
        "fe_model = PanelOLS.from_formula('ROA ~ DtoE + RnD + EntityEffects', data=data)\n",
        "fe_results = fe_model.fit()\n",
        "\n",
        "# Estimate Random Effects Model\n",
        "re_model = RandomEffects.from_formula('ROA ~ DtoE + RnD', data=data)\n",
        "re_results = re_model.fit()\n",
        "\n",
        "# Hausman Test\n",
        "print(compare({\"Fixed Effects\": fe_results, \"Random Effects\": re_results}))"
      ],
      "metadata": {
        "colab": {
          "base_uri": "https://localhost:8080/"
        },
        "id": "TEwVdvOTM0iy",
        "outputId": "9e1e8089-3a00-41d0-870f-62330af4f71a"
      },
      "execution_count": null,
      "outputs": [
        {
          "output_type": "stream",
          "name": "stdout",
          "text": [
            "                    Model Comparison                    \n",
            "========================================================\n",
            "                         Fixed Effects    Random Effects\n",
            "--------------------------------------------------------\n",
            "Dep. Variable                      ROA               ROA\n",
            "Estimator                     PanelOLS     RandomEffects\n",
            "No. Observations                    25                25\n",
            "Cov. Est.                   Unadjusted        Unadjusted\n",
            "R-squared                       0.5016            0.4388\n",
            "R-Squared (Within)              0.5016            0.4728\n",
            "R-Squared (Between)            -4.1022            0.2410\n",
            "R-Squared (Overall)            -3.1038            0.2913\n",
            "F-statistic                     9.0590            8.9913\n",
            "P-value (F-stat)                0.0019            0.0013\n",
            "=====================     ============   ===============\n",
            "DtoE                           -12.775           -14.392\n",
            "                             (-2.1256)         (-3.3422)\n",
            "RnD                             7.6845            3.7464\n",
            "                              (1.8890)          (3.9342)\n",
            "======================= ============== =================\n",
            "Effects                         Entity                  \n",
            "--------------------------------------------------------\n",
            "\n",
            "T-stats reported in parentheses\n"
          ]
        }
      ]
    },
    {
      "cell_type": "markdown",
      "source": [
        "# Q2"
      ],
      "metadata": {
        "id": "nU9kJ1l7LG-w"
      }
    },
    {
      "cell_type": "code",
      "execution_count": null,
      "metadata": {
        "id": "MogL1P1rHehf"
      },
      "outputs": [],
      "source": [
        "df = pd.read_csv('/content/Apollo Hospitals Stock Price History (1).csv')\n",
        "df.dropna(inplace=True)\n",
        "df = df.iloc[::-1]\n",
        "df = df.reset_index(drop=True)"
      ]
    },
    {
      "cell_type": "code",
      "source": [
        "df.describe()"
      ],
      "metadata": {
        "colab": {
          "base_uri": "https://localhost:8080/",
          "height": 301
        },
        "id": "FAd1eFIeJ_4_",
        "outputId": "b6e27e57-a5c0-45aa-c645-eb9c6d7e7ab3"
      },
      "execution_count": null,
      "outputs": [
        {
          "output_type": "execute_result",
          "data": {
            "text/plain": [
              "             Price\n",
              "count   120.000000\n",
              "mean   6818.845000\n",
              "std     367.668394\n",
              "min    6052.600000\n",
              "25%    6616.100000\n",
              "50%    6840.350000\n",
              "75%    7080.300000\n",
              "max    7436.750000"
            ],
            "text/html": [
              "\n",
              "  <div id=\"df-a34ba0da-3648-4ce8-bcd6-3835d8b7494c\" class=\"colab-df-container\">\n",
              "    <div>\n",
              "<style scoped>\n",
              "    .dataframe tbody tr th:only-of-type {\n",
              "        vertical-align: middle;\n",
              "    }\n",
              "\n",
              "    .dataframe tbody tr th {\n",
              "        vertical-align: top;\n",
              "    }\n",
              "\n",
              "    .dataframe thead th {\n",
              "        text-align: right;\n",
              "    }\n",
              "</style>\n",
              "<table border=\"1\" class=\"dataframe\">\n",
              "  <thead>\n",
              "    <tr style=\"text-align: right;\">\n",
              "      <th></th>\n",
              "      <th>Price</th>\n",
              "    </tr>\n",
              "  </thead>\n",
              "  <tbody>\n",
              "    <tr>\n",
              "      <th>count</th>\n",
              "      <td>120.000000</td>\n",
              "    </tr>\n",
              "    <tr>\n",
              "      <th>mean</th>\n",
              "      <td>6818.845000</td>\n",
              "    </tr>\n",
              "    <tr>\n",
              "      <th>std</th>\n",
              "      <td>367.668394</td>\n",
              "    </tr>\n",
              "    <tr>\n",
              "      <th>min</th>\n",
              "      <td>6052.600000</td>\n",
              "    </tr>\n",
              "    <tr>\n",
              "      <th>25%</th>\n",
              "      <td>6616.100000</td>\n",
              "    </tr>\n",
              "    <tr>\n",
              "      <th>50%</th>\n",
              "      <td>6840.350000</td>\n",
              "    </tr>\n",
              "    <tr>\n",
              "      <th>75%</th>\n",
              "      <td>7080.300000</td>\n",
              "    </tr>\n",
              "    <tr>\n",
              "      <th>max</th>\n",
              "      <td>7436.750000</td>\n",
              "    </tr>\n",
              "  </tbody>\n",
              "</table>\n",
              "</div>\n",
              "    <div class=\"colab-df-buttons\">\n",
              "\n",
              "  <div class=\"colab-df-container\">\n",
              "    <button class=\"colab-df-convert\" onclick=\"convertToInteractive('df-a34ba0da-3648-4ce8-bcd6-3835d8b7494c')\"\n",
              "            title=\"Convert this dataframe to an interactive table.\"\n",
              "            style=\"display:none;\">\n",
              "\n",
              "  <svg xmlns=\"http://www.w3.org/2000/svg\" height=\"24px\" viewBox=\"0 -960 960 960\">\n",
              "    <path d=\"M120-120v-720h720v720H120Zm60-500h600v-160H180v160Zm220 220h160v-160H400v160Zm0 220h160v-160H400v160ZM180-400h160v-160H180v160Zm440 0h160v-160H620v160ZM180-180h160v-160H180v160Zm440 0h160v-160H620v160Z\"/>\n",
              "  </svg>\n",
              "    </button>\n",
              "\n",
              "  <style>\n",
              "    .colab-df-container {\n",
              "      display:flex;\n",
              "      gap: 12px;\n",
              "    }\n",
              "\n",
              "    .colab-df-convert {\n",
              "      background-color: #E8F0FE;\n",
              "      border: none;\n",
              "      border-radius: 50%;\n",
              "      cursor: pointer;\n",
              "      display: none;\n",
              "      fill: #1967D2;\n",
              "      height: 32px;\n",
              "      padding: 0 0 0 0;\n",
              "      width: 32px;\n",
              "    }\n",
              "\n",
              "    .colab-df-convert:hover {\n",
              "      background-color: #E2EBFA;\n",
              "      box-shadow: 0px 1px 2px rgba(60, 64, 67, 0.3), 0px 1px 3px 1px rgba(60, 64, 67, 0.15);\n",
              "      fill: #174EA6;\n",
              "    }\n",
              "\n",
              "    .colab-df-buttons div {\n",
              "      margin-bottom: 4px;\n",
              "    }\n",
              "\n",
              "    [theme=dark] .colab-df-convert {\n",
              "      background-color: #3B4455;\n",
              "      fill: #D2E3FC;\n",
              "    }\n",
              "\n",
              "    [theme=dark] .colab-df-convert:hover {\n",
              "      background-color: #434B5C;\n",
              "      box-shadow: 0px 1px 3px 1px rgba(0, 0, 0, 0.15);\n",
              "      filter: drop-shadow(0px 1px 2px rgba(0, 0, 0, 0.3));\n",
              "      fill: #FFFFFF;\n",
              "    }\n",
              "  </style>\n",
              "\n",
              "    <script>\n",
              "      const buttonEl =\n",
              "        document.querySelector('#df-a34ba0da-3648-4ce8-bcd6-3835d8b7494c button.colab-df-convert');\n",
              "      buttonEl.style.display =\n",
              "        google.colab.kernel.accessAllowed ? 'block' : 'none';\n",
              "\n",
              "      async function convertToInteractive(key) {\n",
              "        const element = document.querySelector('#df-a34ba0da-3648-4ce8-bcd6-3835d8b7494c');\n",
              "        const dataTable =\n",
              "          await google.colab.kernel.invokeFunction('convertToInteractive',\n",
              "                                                    [key], {});\n",
              "        if (!dataTable) return;\n",
              "\n",
              "        const docLinkHtml = 'Like what you see? Visit the ' +\n",
              "          '<a target=\"_blank\" href=https://colab.research.google.com/notebooks/data_table.ipynb>data table notebook</a>'\n",
              "          + ' to learn more about interactive tables.';\n",
              "        element.innerHTML = '';\n",
              "        dataTable['output_type'] = 'display_data';\n",
              "        await google.colab.output.renderOutput(dataTable, element);\n",
              "        const docLink = document.createElement('div');\n",
              "        docLink.innerHTML = docLinkHtml;\n",
              "        element.appendChild(docLink);\n",
              "      }\n",
              "    </script>\n",
              "  </div>\n",
              "\n",
              "\n",
              "<div id=\"df-5c0a2f52-603e-4eab-b415-32401fa73f62\">\n",
              "  <button class=\"colab-df-quickchart\" onclick=\"quickchart('df-5c0a2f52-603e-4eab-b415-32401fa73f62')\"\n",
              "            title=\"Suggest charts\"\n",
              "            style=\"display:none;\">\n",
              "\n",
              "<svg xmlns=\"http://www.w3.org/2000/svg\" height=\"24px\"viewBox=\"0 0 24 24\"\n",
              "     width=\"24px\">\n",
              "    <g>\n",
              "        <path d=\"M19 3H5c-1.1 0-2 .9-2 2v14c0 1.1.9 2 2 2h14c1.1 0 2-.9 2-2V5c0-1.1-.9-2-2-2zM9 17H7v-7h2v7zm4 0h-2V7h2v10zm4 0h-2v-4h2v4z\"/>\n",
              "    </g>\n",
              "</svg>\n",
              "  </button>\n",
              "\n",
              "<style>\n",
              "  .colab-df-quickchart {\n",
              "      --bg-color: #E8F0FE;\n",
              "      --fill-color: #1967D2;\n",
              "      --hover-bg-color: #E2EBFA;\n",
              "      --hover-fill-color: #174EA6;\n",
              "      --disabled-fill-color: #AAA;\n",
              "      --disabled-bg-color: #DDD;\n",
              "  }\n",
              "\n",
              "  [theme=dark] .colab-df-quickchart {\n",
              "      --bg-color: #3B4455;\n",
              "      --fill-color: #D2E3FC;\n",
              "      --hover-bg-color: #434B5C;\n",
              "      --hover-fill-color: #FFFFFF;\n",
              "      --disabled-bg-color: #3B4455;\n",
              "      --disabled-fill-color: #666;\n",
              "  }\n",
              "\n",
              "  .colab-df-quickchart {\n",
              "    background-color: var(--bg-color);\n",
              "    border: none;\n",
              "    border-radius: 50%;\n",
              "    cursor: pointer;\n",
              "    display: none;\n",
              "    fill: var(--fill-color);\n",
              "    height: 32px;\n",
              "    padding: 0;\n",
              "    width: 32px;\n",
              "  }\n",
              "\n",
              "  .colab-df-quickchart:hover {\n",
              "    background-color: var(--hover-bg-color);\n",
              "    box-shadow: 0 1px 2px rgba(60, 64, 67, 0.3), 0 1px 3px 1px rgba(60, 64, 67, 0.15);\n",
              "    fill: var(--button-hover-fill-color);\n",
              "  }\n",
              "\n",
              "  .colab-df-quickchart-complete:disabled,\n",
              "  .colab-df-quickchart-complete:disabled:hover {\n",
              "    background-color: var(--disabled-bg-color);\n",
              "    fill: var(--disabled-fill-color);\n",
              "    box-shadow: none;\n",
              "  }\n",
              "\n",
              "  .colab-df-spinner {\n",
              "    border: 2px solid var(--fill-color);\n",
              "    border-color: transparent;\n",
              "    border-bottom-color: var(--fill-color);\n",
              "    animation:\n",
              "      spin 1s steps(1) infinite;\n",
              "  }\n",
              "\n",
              "  @keyframes spin {\n",
              "    0% {\n",
              "      border-color: transparent;\n",
              "      border-bottom-color: var(--fill-color);\n",
              "      border-left-color: var(--fill-color);\n",
              "    }\n",
              "    20% {\n",
              "      border-color: transparent;\n",
              "      border-left-color: var(--fill-color);\n",
              "      border-top-color: var(--fill-color);\n",
              "    }\n",
              "    30% {\n",
              "      border-color: transparent;\n",
              "      border-left-color: var(--fill-color);\n",
              "      border-top-color: var(--fill-color);\n",
              "      border-right-color: var(--fill-color);\n",
              "    }\n",
              "    40% {\n",
              "      border-color: transparent;\n",
              "      border-right-color: var(--fill-color);\n",
              "      border-top-color: var(--fill-color);\n",
              "    }\n",
              "    60% {\n",
              "      border-color: transparent;\n",
              "      border-right-color: var(--fill-color);\n",
              "    }\n",
              "    80% {\n",
              "      border-color: transparent;\n",
              "      border-right-color: var(--fill-color);\n",
              "      border-bottom-color: var(--fill-color);\n",
              "    }\n",
              "    90% {\n",
              "      border-color: transparent;\n",
              "      border-bottom-color: var(--fill-color);\n",
              "    }\n",
              "  }\n",
              "</style>\n",
              "\n",
              "  <script>\n",
              "    async function quickchart(key) {\n",
              "      const quickchartButtonEl =\n",
              "        document.querySelector('#' + key + ' button');\n",
              "      quickchartButtonEl.disabled = true;  // To prevent multiple clicks.\n",
              "      quickchartButtonEl.classList.add('colab-df-spinner');\n",
              "      try {\n",
              "        const charts = await google.colab.kernel.invokeFunction(\n",
              "            'suggestCharts', [key], {});\n",
              "      } catch (error) {\n",
              "        console.error('Error during call to suggestCharts:', error);\n",
              "      }\n",
              "      quickchartButtonEl.classList.remove('colab-df-spinner');\n",
              "      quickchartButtonEl.classList.add('colab-df-quickchart-complete');\n",
              "    }\n",
              "    (() => {\n",
              "      let quickchartButtonEl =\n",
              "        document.querySelector('#df-5c0a2f52-603e-4eab-b415-32401fa73f62 button');\n",
              "      quickchartButtonEl.style.display =\n",
              "        google.colab.kernel.accessAllowed ? 'block' : 'none';\n",
              "    })();\n",
              "  </script>\n",
              "</div>\n",
              "\n",
              "    </div>\n",
              "  </div>\n"
            ],
            "application/vnd.google.colaboratory.intrinsic+json": {
              "type": "dataframe",
              "summary": "{\n  \"name\": \"df\",\n  \"rows\": 8,\n  \"fields\": [\n    {\n      \"column\": \"Price\",\n      \"properties\": {\n        \"dtype\": \"number\",\n        \"std\": 3064.3373480224072,\n        \"min\": 120.0,\n        \"max\": 7436.75,\n        \"num_unique_values\": 8,\n        \"samples\": [\n          6818.845,\n          6840.35,\n          120.0\n        ],\n        \"semantic_type\": \"\",\n        \"description\": \"\"\n      }\n    }\n  ]\n}"
            }
          },
          "metadata": {},
          "execution_count": 32
        }
      ]
    },
    {
      "cell_type": "code",
      "source": [
        "df['Price'] = df['Price'].replace({',': ''}, regex=True).astype(float)\n",
        "\n",
        "closing_prices = df['Price']\n",
        "# Perform Augmented Dickey-Fuller test\n",
        "adf_test = adfuller(closing_prices)\n",
        "print(\"ADF Statistic:\", adf_test[0])\n",
        "print(\"p-value:\", adf_test[1])\n",
        "\n",
        "# Interpretation:\n",
        "if adf_test[1] < 0.05:\n",
        "    print(\"The series is stationary.\")\n",
        "else:\n",
        "    print(\"The series is not stationary.\")"
      ],
      "metadata": {
        "colab": {
          "base_uri": "https://localhost:8080/"
        },
        "id": "MUOcJOrhHzbC",
        "outputId": "71effaa9-e364-42c5-941e-589691a09c1b"
      },
      "execution_count": null,
      "outputs": [
        {
          "output_type": "stream",
          "name": "stdout",
          "text": [
            "ADF Statistic: -1.743723316597045\n",
            "p-value: 0.408737253509675\n",
            "The series is not stationary.\n"
          ]
        }
      ]
    },
    {
      "cell_type": "code",
      "source": [
        "# Log-transform the closing prices\n",
        "log_prices = np.log(df['Price'])\n",
        "# Fit an ARIMA model (order of p, d, q to be determined based on ACF and PACF plots)\n",
        "arima_model = ARIMA(log_prices, order=(1,1,1))  # (p,d,q) can be tuned based on the analysis\n",
        "arima_fit = arima_model.fit()\n",
        "\n",
        "# Print the summary of the ARIMA model\n",
        "print(arima_fit.summary())\n",
        "\n",
        "# Plot the forecast\n",
        "plt.figure(figsize=(10,6))\n",
        "plt.plot(log_prices, label='Log-transformed Stock Prices')\n",
        "plt.plot(arima_fit.fittedvalues, label='ARIMA Model Fitted Values')\n",
        "plt.legend()\n",
        "plt.title('ARIMA Model Fitting')\n",
        "plt.show()"
      ],
      "metadata": {
        "colab": {
          "base_uri": "https://localhost:8080/",
          "height": 962
        },
        "id": "tEwG19IlIcB3",
        "outputId": "9168b29d-a818-45d4-99eb-70648417cb71"
      },
      "execution_count": null,
      "outputs": [
        {
          "output_type": "stream",
          "name": "stdout",
          "text": [
            "                               SARIMAX Results                                \n",
            "==============================================================================\n",
            "Dep. Variable:                  Price   No. Observations:                  120\n",
            "Model:                 ARIMA(1, 1, 1)   Log Likelihood                 332.481\n",
            "Date:                Thu, 17 Apr 2025   AIC                           -658.962\n",
            "Time:                        09:54:30   BIC                           -650.625\n",
            "Sample:                             0   HQIC                          -655.576\n",
            "                                - 120                                         \n",
            "Covariance Type:                  opg                                         \n",
            "==============================================================================\n",
            "                 coef    std err          z      P>|z|      [0.025      0.975]\n",
            "------------------------------------------------------------------------------\n",
            "ar.L1         -0.8257      0.099     -8.331      0.000      -1.020      -0.631\n",
            "ma.L1          0.9614      0.046     21.051      0.000       0.872       1.051\n",
            "sigma2         0.0002   1.89e-05     11.509      0.000       0.000       0.000\n",
            "===================================================================================\n",
            "Ljung-Box (L1) (Q):                   0.25   Jarque-Bera (JB):                82.03\n",
            "Prob(Q):                              0.62   Prob(JB):                         0.00\n",
            "Heteroskedasticity (H):               0.53   Skew:                            -0.05\n",
            "Prob(H) (two-sided):                  0.05   Kurtosis:                         7.07\n",
            "===================================================================================\n",
            "\n",
            "Warnings:\n",
            "[1] Covariance matrix calculated using the outer product of gradients (complex-step).\n"
          ]
        },
        {
          "output_type": "display_data",
          "data": {
            "text/plain": [
              "<Figure size 1000x600 with 1 Axes>"
            ],
            "image/png": "[encoded data removed]"
          },
          "metadata": {}
        }
      ]
    },
    {
      "cell_type": "code",
      "source": [
        "# Residuals from the ARIMA model\n",
        "residuals = arima_fit.resid\n",
        "\n",
        "# Fit GARCH(1,1) model\n",
        "garch_model = arch_model(residuals, vol='Garch', p=1, q=1)\n",
        "garch_fit = garch_model.fit()\n",
        "\n",
        "# Print the summary of the GARCH model\n",
        "print(garch_fit.summary())\n",
        "\n",
        "# Plot the conditional volatility\n",
        "plt.figure(figsize=(10,6))\n",
        "plt.plot(garch_fit.conditional_volatility)\n",
        "plt.title('GARCH(1,1) Conditional Volatility')\n",
        "plt.show()"
      ],
      "metadata": {
        "colab": {
          "base_uri": "https://localhost:8080/",
          "height": 1000
        },
        "id": "Tkw9QMdbH4Xm",
        "outputId": "b7b2f643-ba6e-4b0e-f85f-1e7c17bc85d1"
      },
      "execution_count": null,
      "outputs": [
        {
          "output_type": "stream",
          "name": "stdout",
          "text": [
            "Iteration:      1,   Func. Count:      6,   Neg. LLF: 4823311883.062351\n",
            "Iteration:      2,   Func. Count:     17,   Neg. LLF: 18200372.51464192\n",
            "Iteration:      3,   Func. Count:     23,   Neg. LLF: 3472.255443828247\n",
            "Iteration:      4,   Func. Count:     29,   Neg. LLF: 527043865.4110538\n",
            "Iteration:      5,   Func. Count:     38,   Neg. LLF: 719449.1625012457\n",
            "Iteration:      6,   Func. Count:     44,   Neg. LLF: 2572.3303959671553\n",
            "Iteration:      7,   Func. Count:     50,   Neg. LLF: 36602872.727145605\n",
            "Iteration:      8,   Func. Count:     56,   Neg. LLF: 13871249757244.865\n",
            "Iteration:      9,   Func. Count:     66,   Neg. LLF: 232689.69860184952\n",
            "Iteration:     10,   Func. Count:     72,   Neg. LLF: 1017.8724919357832\n",
            "Iteration:     11,   Func. Count:     78,   Neg. LLF: 1772273737606.688\n",
            "Iteration:     12,   Func. Count:     87,   Neg. LLF: 132445.72096043403\n",
            "Iteration:     13,   Func. Count:     93,   Neg. LLF: 606.0565381820365\n",
            "Iteration:     14,   Func. Count:    103,   Neg. LLF: -302.07598580916437\n",
            "Iteration:     15,   Func. Count:    107,   Neg. LLF: -302.0755428210116\n",
            "Optimization terminated successfully    (Exit mode 0)\n",
            "            Current function value: -302.07598580916437\n",
            "            Iterations: 19\n",
            "            Function evaluations: 107\n",
            "            Gradient evaluations: 15\n",
            "                     Constant Mean - GARCH Model Results                      \n",
            "==============================================================================\n",
            "Dep. Variable:                   None   R-squared:                       0.000\n",
            "Mean Model:             Constant Mean   Adj. R-squared:                  0.000\n",
            "Vol Model:                      GARCH   Log-Likelihood:                302.076\n",
            "Distribution:                  Normal   AIC:                          -596.152\n",
            "Method:            Maximum Likelihood   BIC:                          -585.002\n",
            "                                        No. Observations:                  120\n",
            "Date:                Thu, Apr 17 2025   Df Residuals:                      119\n",
            "Time:                        09:44:55   Df Model:                            1\n",
            "                                  Mean Model                                 \n",
            "=============================================================================\n",
            "                 coef    std err          t      P>|t|       95.0% Conf. Int.\n",
            "-----------------------------------------------------------------------------\n",
            "mu         1.8656e-03  4.300e-03      0.434      0.664 [-6.561e-03,1.029e-02]\n",
            "                               Volatility Model                              \n",
            "=============================================================================\n",
            "                 coef    std err          t      P>|t|       95.0% Conf. Int.\n",
            "-----------------------------------------------------------------------------\n",
            "omega      2.0190e-04  5.813e-05      3.473  5.140e-04  [8.797e-05,3.158e-04]\n",
            "alpha[1]       1.0000      0.703      1.422      0.155      [ -0.378,  2.378]\n",
            "beta[1]    2.4090e-06  1.278e-05      0.188      0.850 [-2.264e-05,2.746e-05]\n",
            "=============================================================================\n",
            "\n",
            "Covariance estimator: robust\n"
          ]
        },
        {
          "output_type": "display_data",
          "data": {
            "text/plain": [
              "<Figure size 1000x600 with 1 Axes>"
            ],
            "image/png": "[encoded data removed]"
          },
          "metadata": {}
        }
      ]
    },
    {
      "cell_type": "code",
      "source": [
        "# Forecast next 5 days with ARIMA model\n",
        "forecast_days = 5\n",
        "forecast_values = arima_fit.forecast(steps=forecast_days)\n",
        "\n",
        "# Convert log-forecast back to price forecast\n",
        "forecast_prices = np.exp(forecast_values)\n",
        "\n",
        "print(\"Forecasted Prices (next 5 days):\")\n",
        "print(forecast_prices)\n",
        "\n",
        "# Forecast the volatility for the next 5 days using GARCH model\n",
        "garch_forecast = garch_fit.forecast(horizon=forecast_days)\n",
        "\n",
        "# Plot the forecasted volatility\n",
        "plt.figure(figsize=(10,6))\n",
        "plt.plot(garch_forecast.variance.values[-1, :], label='Forecasted Volatility')\n",
        "plt.title('Forecasted Volatility (Next 5 Days)')\n",
        "plt.legend()\n",
        "plt.show()"
      ],
      "metadata": {
        "colab": {
          "base_uri": "https://localhost:8080/",
          "height": 666
        },
        "id": "kfScON54IaKO",
        "outputId": "1db3849d-c53c-4bcb-f2d3-ef8621f91e77"
      },
      "execution_count": null,
      "outputs": [
        {
          "output_type": "stream",
          "name": "stdout",
          "text": [
            "Forecasted Prices (next 5 days):\n",
            "120    6892.269730\n",
            "121    6892.188700\n",
            "122    6892.209235\n",
            "123    6892.204031\n",
            "124    6892.205350\n",
            "Name: predicted_mean, dtype: float64\n"
          ]
        },
        {
          "output_type": "display_data",
          "data": {
            "text/plain": [
              "<Figure size 1000x600 with 1 Axes>"
            ],
            "image/png": "[encoded data removed]"
          },
          "metadata": {}
        }
      ]
    },
    {
      "cell_type": "markdown",
      "source": [
        "# Q3"
      ],
      "metadata": {
        "id": "3WZVXgTdO1TS"
      }
    },
    {
      "cell_type": "code",
      "source": [],
      "metadata": {
        "id": "yjQRFl4KO2QH"
      },
      "execution_count": null,
      "outputs": []
    }
  ]
}